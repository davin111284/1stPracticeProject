{
  "nbformat": 4,
  "nbformat_minor": 0,
  "metadata": {
    "colab": {
      "provenance": [],
      "authorship_tag": "ABX9TyO0lXrDh//xXyNhB5tyw4LO",
      "include_colab_link": true
    },
    "kernelspec": {
      "name": "python3",
      "display_name": "Python 3"
    },
    "language_info": {
      "name": "python"
    }
  },
  "cells": [
    {
      "cell_type": "markdown",
      "metadata": {
        "id": "view-in-github",
        "colab_type": "text"
      },
      "source": [
        "<a href=\"https://colab.research.google.com/github/davin111284/1stPracticeProject/blob/main/A_B_Testing_sample.ipynb\" target=\"_parent\"><img src=\"https://colab.research.google.com/assets/colab-badge.svg\" alt=\"Open In Colab\"/></a>"
      ]
    },
    {
      "cell_type": "code",
      "execution_count": 2,
      "metadata": {
        "colab": {
          "base_uri": "https://localhost:8080/"
        },
        "id": "cLpqxCg9nZqN",
        "outputId": "83f0483f-9510-4a70-c095-f7f04efabe1b"
      },
      "outputs": [
        {
          "output_type": "stream",
          "name": "stdout",
          "text": [
            "Control CTR: 18.00%\n",
            "Test CTR: 13.00%\n",
            "Chi-Square Test p-value: 0.00000\n",
            "The difference is statistically significant.Implement the new recommendation system.\n"
          ]
        }
      ],
      "source": [
        "import numpy as np\n",
        "import scipy.stats as stats\n",
        "\n",
        "cc = 1800  # control clicks\n",
        "ci = 10000  # control impressions\n",
        "\n",
        "tc = 1300  # test clicks\n",
        "ti = 10000  # test impressions\n",
        "\n",
        "ctr_c = cc / ci # Variable for percentage of click through rate(CTR) for controlled clicks\n",
        "ctr_t = tc / ti # Variable for percentage of click through rate(CTR) for test clicks\n",
        "\n",
        "table = np.array([[cc, ci - cc],\n",
        "                  [tc, ti - tc]]) # Variable organizing numbers into an array\n",
        "\n",
        "chi2, p, _, _ = stats.chi2_contingency(table) # Testing P-value\n",
        "\n",
        "print(f\"Control CTR: {ctr_c:.2%}\") # Printing the outcome of Test CTR, Control CTR & P-value\n",
        "print(f\"Test CTR: {ctr_t:.2%}\")\n",
        "print(f\"Chi-Square Test p-value: {p:.5f}\")\n",
        "\n",
        "if p < 0.05:\n",
        "    print(\"The difference is statistically significant.Implement the new recommendation system.\") #vIf P-value is less than significance threshold\n",
        "else:\n",
        "    print(\"No significant difference. Further testing needed.\") # If P-value is over significance threshold this message prints"
      ]
    }
  ]
}